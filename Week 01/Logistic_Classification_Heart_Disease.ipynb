{
  "nbformat": 4,
  "nbformat_minor": 0,
  "metadata": {
    "colab": {
      "provenance": [],
      "history_visible": true,
      "authorship_tag": "ABX9TyPHXvPKMNMPptoKdYAmbeDv"
    },
    "kernelspec": {
      "name": "python3",
      "display_name": "Python 3"
    },
    "language_info": {
      "name": "python"
    }
  },
  "cells": [
    {
      "cell_type": "markdown",
      "source": [
        "# Logistic Classification (Heart Disease)\n",
        "## Importing the libraries"
      ],
      "metadata": {
        "id": "hDfYyw78ogyN"
      }
    },
    {
      "cell_type": "code",
      "source": [
        "import numpy as np\n",
        "import matplotlib.pyplot as plt\n",
        "import pandas as pd\n",
        "import seaborn as sns"
      ],
      "metadata": {
        "id": "bAhsW68Yx1MU"
      },
      "execution_count": 1,
      "outputs": []
    },
    {
      "cell_type": "markdown",
      "source": [
        "## Importing the Heart Disease dataset and display the first few rows"
      ],
      "metadata": {
        "id": "SaKYn7Ssp3Tp"
      }
    },
    {
      "cell_type": "code",
      "source": [
        "dataset = pd.read_csv('HeartDisease.csv')\n",
        "print(dataset.head())"
      ],
      "metadata": {
        "colab": {
          "base_uri": "https://localhost:8080/"
        },
        "id": "GPTJMJAVx8-Z",
        "outputId": "ad6ae861-c6a6-48d0-9a04-ec367ccf7fd7"
      },
      "execution_count": 2,
      "outputs": [
        {
          "output_type": "stream",
          "name": "stdout",
          "text": [
            "   age  sex  cp  trestbps  chol  fbs  restecg  thalach  exang  oldpeak  slope  \\\n",
            "0   63    1   1       145   233    1        2      150      0      2.3      3   \n",
            "1   67    1   4       160   286    0        2      108      1      1.5      2   \n",
            "2   67    1   4       120   229    0        2      129      1      2.6      2   \n",
            "3   37    1   3       130   250    0        0      187      0      3.5      3   \n",
            "4   41    0   2       130   204    0        2      172      0      1.4      1   \n",
            "\n",
            "    ca  thal  num  \n",
            "0  0.0   6.0    0  \n",
            "1  3.0   3.0    2  \n",
            "2  2.0   7.0    1  \n",
            "3  0.0   3.0    0  \n",
            "4  0.0   3.0    0  \n"
          ]
        }
      ]
    },
    {
      "cell_type": "markdown",
      "source": [
        "## Check empty data and delete its empty row"
      ],
      "metadata": {
        "id": "8swBXIDIkoIA"
      }
    },
    {
      "cell_type": "code",
      "source": [
        "print(dataset.info())"
      ],
      "metadata": {
        "colab": {
          "base_uri": "https://localhost:8080/"
        },
        "id": "gyXO4MZPk2-W",
        "outputId": "06228f62-b196-4634-af8c-8197ee534580"
      },
      "execution_count": 6,
      "outputs": [
        {
          "output_type": "stream",
          "name": "stdout",
          "text": [
            "<class 'pandas.core.frame.DataFrame'>\n",
            "RangeIndex: 303 entries, 0 to 302\n",
            "Data columns (total 14 columns):\n",
            " #   Column    Non-Null Count  Dtype  \n",
            "---  ------    --------------  -----  \n",
            " 0   age       303 non-null    int64  \n",
            " 1   sex       303 non-null    int64  \n",
            " 2   cp        303 non-null    int64  \n",
            " 3   trestbps  303 non-null    int64  \n",
            " 4   chol      303 non-null    int64  \n",
            " 5   fbs       303 non-null    int64  \n",
            " 6   restecg   303 non-null    int64  \n",
            " 7   thalach   303 non-null    int64  \n",
            " 8   exang     303 non-null    int64  \n",
            " 9   oldpeak   303 non-null    float64\n",
            " 10  slope     303 non-null    int64  \n",
            " 11  ca        299 non-null    float64\n",
            " 12  thal      301 non-null    float64\n",
            " 13  num       303 non-null    int64  \n",
            "dtypes: float64(3), int64(11)\n",
            "memory usage: 33.3 KB\n",
            "None\n"
          ]
        }
      ]
    },
    {
      "cell_type": "code",
      "source": [
        "print(dataset.isnull().sum())"
      ],
      "metadata": {
        "colab": {
          "base_uri": "https://localhost:8080/"
        },
        "id": "tmfVXlmGluGG",
        "outputId": "a0e4d78f-5dfb-47e8-c359-408658a9ce1e"
      },
      "execution_count": 7,
      "outputs": [
        {
          "output_type": "stream",
          "name": "stdout",
          "text": [
            "age         0\n",
            "sex         0\n",
            "cp          0\n",
            "trestbps    0\n",
            "chol        0\n",
            "fbs         0\n",
            "restecg     0\n",
            "thalach     0\n",
            "exang       0\n",
            "oldpeak     0\n",
            "slope       0\n",
            "ca          4\n",
            "thal        2\n",
            "num         0\n",
            "dtype: int64\n"
          ]
        }
      ]
    },
    {
      "cell_type": "code",
      "source": [
        "dataset.dropna(subset = ['thal'], inplace=True)\n",
        "dataset.dropna(subset = ['ca'], inplace=True)\n",
        "print(dataset.info())"
      ],
      "metadata": {
        "colab": {
          "base_uri": "https://localhost:8080/"
        },
        "id": "ip5aLd8IlJOm",
        "outputId": "d695bea5-7b9f-4ca2-81e1-05e29586c8cb"
      },
      "execution_count": 10,
      "outputs": [
        {
          "output_type": "stream",
          "name": "stdout",
          "text": [
            "<class 'pandas.core.frame.DataFrame'>\n",
            "Index: 297 entries, 0 to 301\n",
            "Data columns (total 14 columns):\n",
            " #   Column    Non-Null Count  Dtype  \n",
            "---  ------    --------------  -----  \n",
            " 0   age       297 non-null    int64  \n",
            " 1   sex       297 non-null    int64  \n",
            " 2   cp        297 non-null    int64  \n",
            " 3   trestbps  297 non-null    int64  \n",
            " 4   chol      297 non-null    int64  \n",
            " 5   fbs       297 non-null    int64  \n",
            " 6   restecg   297 non-null    int64  \n",
            " 7   thalach   297 non-null    int64  \n",
            " 8   exang     297 non-null    int64  \n",
            " 9   oldpeak   297 non-null    float64\n",
            " 10  slope     297 non-null    int64  \n",
            " 11  ca        297 non-null    float64\n",
            " 12  thal      297 non-null    float64\n",
            " 13  num       297 non-null    int64  \n",
            "dtypes: float64(3), int64(11)\n",
            "memory usage: 34.8 KB\n",
            "None\n"
          ]
        }
      ]
    },
    {
      "cell_type": "markdown",
      "source": [
        "## Feature selection"
      ],
      "metadata": {
        "id": "eI6k8yYxyfsZ"
      }
    },
    {
      "cell_type": "code",
      "source": [
        "X = dataset.drop(columns=[\"num\"])  # Features\n",
        "y = dataset[\"num\"]   # Target"
      ],
      "metadata": {
        "id": "xl5LeFOrykP6"
      },
      "execution_count": 11,
      "outputs": []
    },
    {
      "cell_type": "markdown",
      "source": [
        "## Splitting the dataset into the Training set and Test set (70:30)"
      ],
      "metadata": {
        "id": "kulHyhZwr8JE"
      }
    },
    {
      "cell_type": "code",
      "source": [
        "from sklearn.model_selection import train_test_split\n",
        "X_train, X_test, y_train, y_test = train_test_split(X, y, test_size=0.3)"
      ],
      "metadata": {
        "id": "gIxWHKuky4cy"
      },
      "execution_count": 12,
      "outputs": []
    },
    {
      "cell_type": "markdown",
      "source": [
        "## Feature scaling"
      ],
      "metadata": {
        "id": "1weELDpMzWik"
      }
    },
    {
      "cell_type": "code",
      "source": [
        "from sklearn.preprocessing import StandardScaler\n",
        "scaler = StandardScaler()\n",
        "X_train = scaler.fit_transform(X_train)\n",
        "X_test = scaler.transform(X_test)"
      ],
      "metadata": {
        "id": "iNOi7mQazX-A"
      },
      "execution_count": 13,
      "outputs": []
    },
    {
      "cell_type": "markdown",
      "source": [
        "## Training the Logistic Regression model on the Training set"
      ],
      "metadata": {
        "id": "8VsxpSKIzocn"
      }
    },
    {
      "cell_type": "code",
      "source": [
        "from sklearn.linear_model import LogisticRegression\n",
        "model = LogisticRegression().fit(X_train, y_train)"
      ],
      "metadata": {
        "id": "8a-6P8vpzsUh"
      },
      "execution_count": 14,
      "outputs": []
    },
    {
      "cell_type": "markdown",
      "source": [
        "## Predicting the Test set results"
      ],
      "metadata": {
        "id": "pjx2FnYB2MuO"
      }
    },
    {
      "cell_type": "code",
      "source": [
        "y_pred = model.predict(X_test)\n",
        "y_prob = model.predict_proba(X_test)"
      ],
      "metadata": {
        "id": "hqAO-ukB0sSO"
      },
      "execution_count": 15,
      "outputs": []
    },
    {
      "cell_type": "markdown",
      "source": [
        "## Making the Confusion Matrix and print the classification report"
      ],
      "metadata": {
        "id": "AdLy0mVc1WFN"
      }
    },
    {
      "cell_type": "code",
      "source": [
        "# Evaluasi model dan tampilkan hasilnya\n",
        "from sklearn.metrics import classification_report, confusion_matrix, accuracy_score, precision_score, f1_score, roc_auc_score, roc_curve, recall_score\n",
        "plt.figure(figsize=(8, 6))\n",
        "sns.heatmap(confusion_matrix(y_test, y_pred), annot=True, fmt='d', cmap='Blues',\n",
        "            xticklabels=np.unique(y), yticklabels=np.unique(y))\n",
        "plt.ylabel('Actual')\n",
        "plt.xlabel('Predicted')\n",
        "plt.title('Confusion Matrix')\n",
        "plt.show()\n",
        "print(\"Classification Report:\")\n",
        "print(classification_report(y_test, y_pred))\n",
        "accuracy = accuracy_score(y_test, y_pred)\n",
        "precision = precision_score(y_test, y_pred, average='weighted')\n",
        "f1 = f1_score(y_test, y_pred, average='weighted')\n",
        "auc = roc_auc_score(y_test, y_prob, multi_class='ovr')\n",
        "recall = recall_score(y_test, y_pred, average='weighted')\n",
        "#print(f\"\\nAccuracy: {accuracy * 100:.2f}%\")\n",
        "print('Accuracy : ',accuracy)\n",
        "print('Precision : ',precision)\n",
        "print('F1 Squared : ',f1)\n",
        "print('AUC : ',auc)\n",
        "print('Recall : ',recall)"
      ],
      "metadata": {
        "colab": {
          "base_uri": "https://localhost:8080/",
          "height": 876
        },
        "id": "-v6y6gGL1W5p",
        "outputId": "60a960aa-d343-4d8c-b3a9-eb64015ecb69"
      },
      "execution_count": 16,
      "outputs": [
        {
          "output_type": "display_data",
          "data": {
            "text/plain": [
              "<Figure size 800x600 with 2 Axes>"
            ],
            "image/png": "[encoded data removed]"
          },
          "metadata": {}
        },
        {
          "output_type": "stream",
          "name": "stdout",
          "text": [
            "Classification Report:\n",
            "              precision    recall  f1-score   support\n",
            "\n",
            "           0       0.81      0.91      0.86        53\n",
            "           1       0.20      0.05      0.08        19\n",
            "           2       0.15      0.33      0.21         6\n",
            "           3       0.27      0.43      0.33         7\n",
            "           4       0.50      0.20      0.29         5\n",
            "\n",
            "    accuracy                           0.61        90\n",
            "   macro avg       0.39      0.38      0.35        90\n",
            "weighted avg       0.58      0.61      0.58        90\n",
            "\n",
            "Accuracy :  0.6111111111111112\n",
            "Precision :  0.5805645766662716\n",
            "F1 Squared :  0.5781885268727375\n",
            "AUC :  0.8052762702304573\n",
            "Recall :  0.6111111111111112\n"
          ]
        }
      ]
    },
    {
      "cell_type": "code",
      "source": [
        "# Gambarkan kurva ROC\n",
        "fpr = {}\n",
        "tpr = {}\n",
        "roc_auc = {}\n",
        "\n",
        "plt.figure(figsize=(8, 6))\n",
        "for i in np.unique(y):\n",
        "    fpr[i], tpr[i], _ = roc_curve(y_test == i, y_prob[:, i-1])\n",
        "    plt.plot(fpr[i], tpr[i], label=f'Class {i} (AUC = {roc_auc_score(y_test == i, y_prob[:, i-1]):.2f})')\n",
        "\n",
        "plt.plot([0, 1], [0, 1], 'k--')\n",
        "plt.xlabel(\"False Positive Rate\")\n",
        "plt.ylabel(\"True Positive Rate\")\n",
        "plt.title(\"ROC Curve\")\n",
        "plt.legend()\n",
        "plt.show()"
      ],
      "metadata": {
        "colab": {
          "base_uri": "https://localhost:8080/",
          "height": 564
        },
        "id": "lcWelBI6hHV2",
        "outputId": "81a54e8a-b77e-467e-d6cb-e0b85e8cce10"
      },
      "execution_count": 17,
      "outputs": [
        {
          "output_type": "display_data",
          "data": {
            "text/plain": [
              "<Figure size 800x600 with 1 Axes>"
            ],
            "image/png": "[encoded data removed]"
          },
          "metadata": {}
        }
      ]
    },
    {
      "cell_type": "markdown",
      "source": [
        "## Accuracy\n",
        "Accuracy adalah metrik yang mengukur seberapa banyak prediksi yang benar dibandingkan dengan total prediksi yang dilakukan. Rumusnya:\n",
        "\n",
        "[ Accuracy = \\frac{TP + TN}{TP + TN + FP + FN} ]\n",
        "\n",
        "Di mana:\n",
        "\n",
        "*   TP (True Positive): Prediksi positif yang benar.\n",
        "*   TN (True Negative): Prediksi negatif yang benar.\n",
        "*   FP (False Positive): Prediksi positif yang salah.\n",
        "*   FN (False Negative): Prediksi negatif yang salah.\n",
        "\n",
        "Accuracy cocok digunakan jika dataset memiliki distribusi kelas yang seimbang.\n",
        "\n",
        "## Precision\n",
        "Precision mengukur seberapa banyak prediksi positif yang benar dibandingkan dengan semua prediksi positif yang dilakukan. Rumusnya:\n",
        "\n",
        "[ Precision = \\frac{TP}{TP + FP} ]\n",
        "\n",
        "Precision penting dalam kasus di mana False Positive harus diminimalkan, seperti dalam deteksi spam email.\n",
        "\n",
        "## Recall\n",
        "Recall (juga disebut Sensitivity atau True Positive Rate) mengukur seberapa banyak sampel positif yang berhasil diklasifikasikan dengan benar. Rumusnya:\n",
        "\n",
        "[ Recall = \\frac{TP}{TP + FN} ]\n",
        "\n",
        "Recall penting dalam kasus di mana False Negative harus diminimalkan, seperti dalam diagnosis penyakit.\n",
        "\n",
        "## F1-Score\n",
        "F1-Score adalah rata-rata harmonik dari Precision dan Recall. Rumusnya:\n",
        "\n",
        "[ F1 = 2 \\times \\frac{Precision \\times Recall}{Precision + Recall} ]\n",
        "\n",
        "F1-Score digunakan ketika kita ingin keseimbangan antara Precision dan Recall, terutama jika dataset memiliki ketidakseimbangan kelas.\n",
        "\n",
        "## AUC-ROC (Area Under Curve - Receiver Operating Characteristic)\n",
        "AUC-ROC digunakan untuk mengevaluasi performa model klasifikasi pada berbagai threshold. ROC (Receiver Operating Characteristic) adalah kurva yang menunjukkan hubungan antara:\n",
        "\n",
        "*   True Positive Rate (TPR) atau Recall: ( TPR = \\frac{TP}{TP + FN} )\n",
        "*   False Positive Rate (FPR): ( FPR = \\frac{FP}{FP + TN} )\n",
        "\n",
        "AUC (Area Under Curve) mengukur area di bawah kurva ROC. Nilai AUC berkisar antara 0 hingga 1, di mana semakin tinggi nilai AUC, semakin baik performa model."
      ],
      "metadata": {
        "id": "-SCFh6cwgS59"
      }
    }
  ]
}