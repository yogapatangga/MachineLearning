{
  "nbformat": 4,
  "nbformat_minor": 0,
  "metadata": {
    "colab": {
      "provenance": [],
      "history_visible": true,
      "authorship_tag": "ABX9TyNJJTIMPSGSdJnsj8RHPAEh"
    },
    "kernelspec": {
      "name": "python3",
      "display_name": "Python 3"
    },
    "language_info": {
      "name": "python"
    }
  },
  "cells": [
    {
      "cell_type": "markdown",
      "source": [
        "# Regression Task MLP\n",
        "## Importing the libraries"
      ],
      "metadata": {
        "id": "hDfYyw78ogyN"
      }
    },
    {
      "cell_type": "code",
      "source": [
        "import torch\n",
        "import torch.nn as nn\n",
        "import pandas as pd\n",
        "import torch.optim as optim\n",
        "from sklearn.model_selection import train_test_split\n",
        "from sklearn.preprocessing import StandardScaler\n",
        "import numpy as np\n",
        "from torch.utils.data import DataLoader, TensorDataset\n",
        "import matplotlib.pyplot as plt\n",
        "from sklearn.metrics import root_mean_squared_error\n",
        "from sklearn.metrics import mean_squared_error\n",
        "from sklearn.metrics import r2_score"
      ],
      "metadata": {
        "id": "bAhsW68Yx1MU"
      },
      "execution_count": null,
      "outputs": []
    },
    {
      "cell_type": "markdown",
      "source": [
        "## Importing the dataset and display the first few rows"
      ],
      "metadata": {
        "id": "SaKYn7Ssp3Tp"
      }
    },
    {
      "cell_type": "code",
      "source": [
        "# Menghubungkan Google Colab dengan Google Drive\n",
        "from google.colab import drive\n",
        "\n",
        "# Mount Google Drive ke Colab\n",
        "drive.mount('/content/drive')\n",
        "file_path = '/content/drive/MyDrive/RegresiUTSTelkom.csv'\n",
        "df = pd.read_csv(file_path)\n",
        "print(df.head())"
      ],
      "metadata": {
        "colab": {
          "base_uri": "https://localhost:8080/"
        },
        "id": "GPTJMJAVx8-Z",
        "outputId": "395281ca-7e75-42b1-980e-2129351b3889"
      },
      "execution_count": null,
      "outputs": [
        {
          "output_type": "stream",
          "name": "stdout",
          "text": [
            "Drive already mounted at /content/drive; to attempt to forcibly remount, call drive.mount(\"/content/drive\", force_remount=True).\n",
            "   2001  49.94357  21.47114   73.0775   8.74861  -17.40628  -13.09905  \\\n",
            "0  2001  48.73215  18.42930  70.32679  12.94636  -10.32437  -24.83777   \n",
            "1  2001  50.95714  31.85602  55.81851  13.41693   -6.57898  -18.54940   \n",
            "2  2001  48.24750  -1.89837  36.29772   2.58776    0.97170  -26.21683   \n",
            "3  2001  50.97020  42.20998  67.09964   8.46791  -15.85279  -16.81409   \n",
            "4  2001  50.54767   0.31568  92.35066  22.38696  -25.51870  -19.04928   \n",
            "\n",
            "   -25.01202  -12.23257   7.83089  ...   13.0162  -54.40548  58.99367  \\\n",
            "0    8.76630   -0.92019  18.76548  ...   5.66812  -19.68073  33.04964   \n",
            "1   -3.27872   -2.35035  16.07017  ...   3.03800   26.05866 -50.92779   \n",
            "2    5.05097  -10.34124   3.55005  ...  34.57337 -171.70734 -16.96705   \n",
            "3  -12.48207   -9.37636  12.63699  ...   9.92661  -55.95724  64.92712   \n",
            "4   20.67345   -5.19943   3.63566  ...   6.59753  -50.69577  26.02574   \n",
            "\n",
            "   15.37344   1.11144  -23.08793   68.40795  -1.82223  -27.46348   2.26327  \n",
            "0  42.87836  -9.90378  -32.22788   70.49388  12.04941   58.43453  26.92061  \n",
            "1  10.93792  -0.07568   43.20130 -115.00698  -0.05859   39.67068  -0.66345  \n",
            "2 -46.67617 -12.51516   82.58061  -72.08993   9.90558  199.62971  18.85382  \n",
            "3 -17.72522  -1.49237   -7.50035   51.76631   7.88713   55.66926  28.74903  \n",
            "4  18.94430  -0.33730    6.09352   35.18381   5.00283  -11.02257   0.02263  \n",
            "\n",
            "[5 rows x 91 columns]\n"
          ]
        }
      ]
    },
    {
      "cell_type": "markdown",
      "source": [
        "## Exploring the dataset and select target"
      ],
      "metadata": {
        "id": "eI6k8yYxyfsZ"
      }
    },
    {
      "cell_type": "code",
      "source": [
        "print(df.shape)\n",
        "print(df.info())\n",
        "X = df.drop(\"2001\", axis=1)  # Features\n",
        "y = df[\"2001\"]   # Target"
      ],
      "metadata": {
        "id": "xl5LeFOrykP6",
        "colab": {
          "base_uri": "https://localhost:8080/"
        },
        "outputId": "ea7946c4-e883-4979-ec32-d88066089b12"
      },
      "execution_count": null,
      "outputs": [
        {
          "output_type": "stream",
          "name": "stdout",
          "text": [
            "(515344, 91)\n",
            "<class 'pandas.core.frame.DataFrame'>\n",
            "RangeIndex: 515344 entries, 0 to 515343\n",
            "Data columns (total 91 columns):\n",
            " #   Column      Non-Null Count   Dtype  \n",
            "---  ------      --------------   -----  \n",
            " 0   2001        515344 non-null  int64  \n",
            " 1   49.94357    515344 non-null  float64\n",
            " 2   21.47114    515344 non-null  float64\n",
            " 3   73.0775     515344 non-null  float64\n",
            " 4   8.74861     515344 non-null  float64\n",
            " 5   -17.40628   515344 non-null  float64\n",
            " 6   -13.09905   515344 non-null  float64\n",
            " 7   -25.01202   515344 non-null  float64\n",
            " 8   -12.23257   515344 non-null  float64\n",
            " 9   7.83089     515344 non-null  float64\n",
            " 10  -2.46783    515344 non-null  float64\n",
            " 11  3.32136     515344 non-null  float64\n",
            " 12  -2.31521    515344 non-null  float64\n",
            " 13  10.20556    515344 non-null  float64\n",
            " 14  611.10913   515344 non-null  float64\n",
            " 15  951.0896    515344 non-null  float64\n",
            " 16  698.11428   515344 non-null  float64\n",
            " 17  408.98485   515344 non-null  float64\n",
            " 18  383.70912   515344 non-null  float64\n",
            " 19  326.51512   515344 non-null  float64\n",
            " 20  238.11327   515344 non-null  float64\n",
            " 21  251.42414   515344 non-null  float64\n",
            " 22  187.17351   515344 non-null  float64\n",
            " 23  100.42652   515344 non-null  float64\n",
            " 24  179.19498   515344 non-null  float64\n",
            " 25  -8.41558    515344 non-null  float64\n",
            " 26  -317.87038  515344 non-null  float64\n",
            " 27  95.86266    515344 non-null  float64\n",
            " 28  48.10259    515344 non-null  float64\n",
            " 29  -95.66303   515344 non-null  float64\n",
            " 30  -18.06215   515344 non-null  float64\n",
            " 31  1.96984     515344 non-null  float64\n",
            " 32  34.42438    515344 non-null  float64\n",
            " 33  11.7267     515344 non-null  float64\n",
            " 34  1.3679      515344 non-null  float64\n",
            " 35  7.79444     515344 non-null  float64\n",
            " 36  -0.36994    515344 non-null  float64\n",
            " 37  -133.67852  515344 non-null  float64\n",
            " 38  -83.26165   515344 non-null  float64\n",
            " 39  -37.29765   515344 non-null  float64\n",
            " 40  73.04667    515344 non-null  float64\n",
            " 41  -37.36684   515344 non-null  float64\n",
            " 42  -3.13853    515344 non-null  float64\n",
            " 43  -24.21531   515344 non-null  float64\n",
            " 44  -13.23066   515344 non-null  float64\n",
            " 45  15.93809    515344 non-null  float64\n",
            " 46  -18.60478   515344 non-null  float64\n",
            " 47  82.15479    515344 non-null  float64\n",
            " 48  240.5798    515344 non-null  float64\n",
            " 49  -10.29407   515344 non-null  float64\n",
            " 50  31.58431    515344 non-null  float64\n",
            " 51  -25.38187   515344 non-null  float64\n",
            " 52  -3.90772    515344 non-null  float64\n",
            " 53  13.29258    515344 non-null  float64\n",
            " 54  41.5506     515344 non-null  float64\n",
            " 55  -7.26272    515344 non-null  float64\n",
            " 56  -21.00863   515344 non-null  float64\n",
            " 57  105.50848   515344 non-null  float64\n",
            " 58  64.29856    515344 non-null  float64\n",
            " 59  26.08481    515344 non-null  float64\n",
            " 60  -44.5911    515344 non-null  float64\n",
            " 61  -8.30657    515344 non-null  float64\n",
            " 62  7.93706     515344 non-null  float64\n",
            " 63  -10.7366    515344 non-null  float64\n",
            " 64  -95.44766   515344 non-null  float64\n",
            " 65  -82.03307   515344 non-null  float64\n",
            " 66  -35.59194   515344 non-null  float64\n",
            " 67  4.69525     515344 non-null  float64\n",
            " 68  70.95626    515344 non-null  float64\n",
            " 69  28.09139    515344 non-null  float64\n",
            " 70  6.02015     515344 non-null  float64\n",
            " 71  -37.13767   515344 non-null  float64\n",
            " 72  -41.1245    515344 non-null  float64\n",
            " 73  -8.40816    515344 non-null  float64\n",
            " 74  7.19877     515344 non-null  float64\n",
            " 75  -8.60176    515344 non-null  float64\n",
            " 76  -5.90857    515344 non-null  float64\n",
            " 77  -12.32437   515344 non-null  float64\n",
            " 78  14.68734    515344 non-null  float64\n",
            " 79  -54.32125   515344 non-null  float64\n",
            " 80  40.14786    515344 non-null  float64\n",
            " 81  13.0162     515344 non-null  float64\n",
            " 82  -54.40548   515344 non-null  float64\n",
            " 83  58.99367    515344 non-null  float64\n",
            " 84  15.37344    515344 non-null  float64\n",
            " 85  1.11144     515344 non-null  float64\n",
            " 86  -23.08793   515344 non-null  float64\n",
            " 87  68.40795    515344 non-null  float64\n",
            " 88  -1.82223    515344 non-null  float64\n",
            " 89  -27.46348   515344 non-null  float64\n",
            " 90  2.26327     515344 non-null  float64\n",
            "dtypes: float64(90), int64(1)\n",
            "memory usage: 357.8 MB\n",
            "None\n"
          ]
        }
      ]
    },
    {
      "cell_type": "markdown",
      "source": [
        "## Splitting the dataset into the Training set and Test set (70:30)"
      ],
      "metadata": {
        "id": "kulHyhZwr8JE"
      }
    },
    {
      "cell_type": "code",
      "source": [
        "X_train, X_test, y_train, y_test = train_test_split(X, y, test_size=0.3)"
      ],
      "metadata": {
        "id": "gIxWHKuky4cy"
      },
      "execution_count": null,
      "outputs": []
    },
    {
      "cell_type": "markdown",
      "source": [
        "## Feature engineering"
      ],
      "metadata": {
        "id": "8ekwqPk0e6Vq"
      }
    },
    {
      "cell_type": "code",
      "source": [
        "# Scaling the features using StandardScaler\n",
        "scaler = StandardScaler()\n",
        "X_train = scaler.fit_transform(X_train)\n",
        "X_test = scaler.transform(X_test)"
      ],
      "metadata": {
        "id": "LfLkG25Je_7S"
      },
      "execution_count": null,
      "outputs": []
    },
    {
      "cell_type": "code",
      "source": [
        "# Convert to PyTorch tensors\n",
        "X_train_tensor = torch.tensor(X_train, dtype=torch.float32)\n",
        "y_train_tensor = torch.tensor(y_train.values, dtype=torch.float32).view(-1, 1)\n",
        "X_test_tensor = torch.tensor(X_test, dtype=torch.float32)\n",
        "y_test_tensor = torch.tensor(y_test.values, dtype=torch.float32).view(-1, 1)"
      ],
      "metadata": {
        "id": "beP5e39JhFYl"
      },
      "execution_count": null,
      "outputs": []
    },
    {
      "cell_type": "code",
      "source": [
        "# Create DataLoader for training and testing\n",
        "train_data = TensorDataset(X_train_tensor, y_train_tensor)\n",
        "test_data = TensorDataset(X_test_tensor, y_test_tensor)\n",
        "train_loader = DataLoader(train_data, batch_size=64, shuffle=True)\n",
        "test_loader = DataLoader(test_data, batch_size=64, shuffle=False)"
      ],
      "metadata": {
        "id": "7-guMU-nhVxG"
      },
      "execution_count": null,
      "outputs": []
    },
    {
      "cell_type": "markdown",
      "source": [
        "## Define the MLP Model\n",
        "\n"
      ],
      "metadata": {
        "id": "8VsxpSKIzocn"
      }
    },
    {
      "cell_type": "code",
      "source": [
        "class MLP(nn.Module):\n",
        "    def __init__(self, input_size, hidden_size, output_size):\n",
        "        super(MLP, self).__init__()\n",
        "        self.layer1 = nn.Linear(input_size, hidden_size)  # First hidden layer\n",
        "        self.layer2 = nn.Linear(hidden_size, output_size)  # Output layer\n",
        "\n",
        "    def forward(self, x):\n",
        "        x = torch.relu(self.layer1(x))  # Apply ReLU activation\n",
        "        x = self.layer2(x)  # Output layer\n",
        "        return x"
      ],
      "metadata": {
        "id": "8a-6P8vpzsUh"
      },
      "execution_count": null,
      "outputs": []
    },
    {
      "cell_type": "code",
      "source": [
        "# Define the model, loss function, and optimizer\n",
        "input_size = X_train.shape[1]\n",
        "hidden_size = 64\n",
        "output_size = 1  # Single output for regression\n",
        "model = MLP(input_size, hidden_size, output_size)\n",
        "criterion = nn.MSELoss()\n",
        "optimizer = optim.Adam(model.parameters(), lr=0.001)"
      ],
      "metadata": {
        "id": "n3HQfYCRgMsx"
      },
      "execution_count": null,
      "outputs": []
    },
    {
      "cell_type": "markdown",
      "source": [
        "## Create the Training Loop"
      ],
      "metadata": {
        "id": "r3Jcj7nEgmao"
      }
    },
    {
      "cell_type": "code",
      "source": [
        "num_epochs = 100  # Number of epochs for training\n",
        "\n",
        "train_losses = []  # Store the loss values to plot\n",
        "\n",
        "for epoch in range(num_epochs):\n",
        "    model.train()  # Set the model to training mode\n",
        "    running_loss = 0.0\n",
        "\n",
        "    for inputs, labels in train_loader:\n",
        "        # Zero the gradients\n",
        "        optimizer.zero_grad()\n",
        "\n",
        "        # Forward pass\n",
        "        outputs = model(inputs)\n",
        "        loss = criterion(outputs, labels)\n",
        "\n",
        "        # Backward pass and optimization\n",
        "        loss.backward()\n",
        "        optimizer.step()\n",
        "\n",
        "        running_loss += loss.item()\n",
        "\n",
        "    # Compute average loss for this epoch\n",
        "    avg_loss = running_loss / len(train_loader)\n",
        "    train_losses.append(avg_loss)\n",
        "\n",
        "    if (epoch+1) % 10 == 0:\n",
        "        print(f\"Epoch [{epoch+1}/{num_epochs}], Loss: {avg_loss:.4f}\")"
      ],
      "metadata": {
        "colab": {
          "base_uri": "https://localhost:8080/"
        },
        "id": "WtIHfYjMgr7r",
        "outputId": "844aa1b2-6c6f-4e58-d31b-0a6bbcb8c996"
      },
      "execution_count": null,
      "outputs": [
        {
          "output_type": "stream",
          "name": "stdout",
          "text": [
            "Epoch [10/100], Loss: 96.0327\n",
            "Epoch [20/100], Loss: 93.0861\n",
            "Epoch [30/100], Loss: 91.3423\n",
            "Epoch [40/100], Loss: 90.3881\n",
            "Epoch [50/100], Loss: 89.5938\n",
            "Epoch [60/100], Loss: 88.9501\n",
            "Epoch [70/100], Loss: 88.2932\n",
            "Epoch [80/100], Loss: 88.8202\n",
            "Epoch [90/100], Loss: 88.4657\n",
            "Epoch [100/100], Loss: 87.7775\n"
          ]
        }
      ]
    },
    {
      "cell_type": "markdown",
      "source": [
        "## Evaluate the Model"
      ],
      "metadata": {
        "id": "uaugIaI4hT8b"
      }
    },
    {
      "cell_type": "code",
      "source": [
        "model.eval()  # Set the model to evaluation mode\n",
        "with torch.no_grad():  # We don't need to track gradients for evaluation\n",
        "    y_pred_train = model(X_train_tensor).numpy()\n",
        "    y_pred_test = model(X_test_tensor).numpy()"
      ],
      "metadata": {
        "id": "IjgvvC_mhYH9"
      },
      "execution_count": null,
      "outputs": []
    },
    {
      "cell_type": "markdown",
      "source": [
        "## Plot the Results"
      ],
      "metadata": {
        "id": "pH148h5Nk0bq"
      }
    },
    {
      "cell_type": "code",
      "source": [
        "# Training Loss curve\n",
        "plt.plot(range(1, num_epochs+1), train_losses, label='Training Loss')\n",
        "plt.xlabel('Epoch')\n",
        "plt.ylabel('Loss')\n",
        "plt.title('Training Loss Curve')\n",
        "plt.legend()\n",
        "plt.show()"
      ],
      "metadata": {
        "colab": {
          "base_uri": "https://localhost:8080/",
          "height": 472
        },
        "id": "Q53i4cAsk8B4",
        "outputId": "347d04cd-f685-49df-a940-6cdc7eb0403f"
      },
      "execution_count": null,
      "outputs": [
        {
          "output_type": "display_data",
          "data": {
            "text/plain": [
              "<Figure size 640x480 with 1 Axes>"
            ],
            "image/png": "[encoded data removed]"
          },
          "metadata": {}
        }
      ]
    },
    {
      "cell_type": "code",
      "source": [
        "# Prediction vs True values for Test Data\n",
        "plt.scatter(y_test, y_pred_test, label='Test Data Predictions', alpha=0.5)\n",
        "plt.plot([y_test.min(), y_test.max()], [y_test.min(), y_test.max()], 'k--', lw=2)  # Ideal line\n",
        "plt.xlabel('True Values')\n",
        "plt.ylabel('Predictions')\n",
        "plt.title('True vs Predicted Values')\n",
        "plt.legend()\n",
        "plt.show()"
      ],
      "metadata": {
        "colab": {
          "base_uri": "https://localhost:8080/",
          "height": 472
        },
        "id": "qPUz0wqHhtxw",
        "outputId": "f50814b2-3f58-4bba-bff9-2f4e89af971b"
      },
      "execution_count": null,
      "outputs": [
        {
          "output_type": "display_data",
          "data": {
            "text/plain": [
              "<Figure size 640x480 with 1 Axes>"
            ],
            "image/png": "[encoded data removed]"
          },
          "metadata": {}
        }
      ]
    },
    {
      "cell_type": "markdown",
      "source": [
        "## Evaluate the result"
      ],
      "metadata": {
        "id": "pjx2FnYB2MuO"
      }
    },
    {
      "cell_type": "code",
      "source": [
        "rmse = root_mean_squared_error(y_test, y_pred_test)\n",
        "mse = mean_squared_error(y_test, y_pred_test)\n",
        "r2 = r2_score(y_test, y_pred_test)\n",
        "print(f\"RMSE: {rmse:.4f}\")\n",
        "print(f\"MSE: {mse:.4f}\")\n",
        "print(f\"RSquared: {r2:.4f}\")"
      ],
      "metadata": {
        "id": "hqAO-ukB0sSO",
        "colab": {
          "base_uri": "https://localhost:8080/"
        },
        "outputId": "a142dd30-13e6-4706-85fd-6752adae9c87"
      },
      "execution_count": null,
      "outputs": [
        {
          "output_type": "stream",
          "name": "stdout",
          "text": [
            "RMSE: 9.3681\n",
            "MSE: 87.7609\n",
            "RSquared: 0.2681\n"
          ]
        }
      ]
    }
  ]
}