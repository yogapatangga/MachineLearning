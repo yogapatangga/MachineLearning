{
  "nbformat": 4,
  "nbformat_minor": 0,
  "metadata": {
    "colab": {
      "provenance": [],
      "history_visible": true,
      "authorship_tag": "ABX9TyOAVeXlEDITRVcJTlqAKAjt"
    },
    "kernelspec": {
      "name": "python3",
      "display_name": "Python 3"
    },
    "language_info": {
      "name": "python"
    }
  },
  "cells": [
    {
      "cell_type": "markdown",
      "source": [
        "# Automobile Linear Regression\n",
        "## Importing the libraries"
      ],
      "metadata": {
        "id": "hDfYyw78ogyN"
      }
    },
    {
      "cell_type": "code",
      "source": [
        "import numpy as np\n",
        "import matplotlib.pyplot as plt\n",
        "import pandas as pd\n",
        "import seaborn as sns"
      ],
      "metadata": {
        "id": "bAhsW68Yx1MU"
      },
      "execution_count": 1,
      "outputs": []
    },
    {
      "cell_type": "markdown",
      "source": [
        "## Importing the Automobile dataset and display the first few rows"
      ],
      "metadata": {
        "id": "SaKYn7Ssp3Tp"
      }
    },
    {
      "cell_type": "code",
      "source": [
        "dataset = pd.read_csv('Automobile.csv')\n",
        "print(dataset.head())"
      ],
      "metadata": {
        "colab": {
          "base_uri": "https://localhost:8080/"
        },
        "id": "GPTJMJAVx8-Z",
        "outputId": "eb60d357-177e-4c62-decb-5ab057e355da"
      },
      "execution_count": 13,
      "outputs": [
        {
          "output_type": "stream",
          "name": "stdout",
          "text": [
            "     price  highway-mpg  city-mpg  peak-rpm  horsepower  compression-ratio  \\\n",
            "0  13495.0           27        21    5000.0       111.0                9.0   \n",
            "1  16500.0           27        21    5000.0       111.0                9.0   \n",
            "2  16500.0           26        19    5000.0       154.0                9.0   \n",
            "3  13950.0           30        24    5500.0       102.0               10.0   \n",
            "4  17450.0           22        18    5500.0       115.0                8.0   \n",
            "\n",
            "   stroke  bore fuel-system  engine-size  ...  wheel-base engine-location  \\\n",
            "0    2.68  3.47        mpfi          130  ...        88.6           front   \n",
            "1    2.68  3.47        mpfi          130  ...        88.6           front   \n",
            "2    3.47  2.68        mpfi          152  ...        94.5           front   \n",
            "3    3.40  3.19        mpfi          109  ...        99.8           front   \n",
            "4    3.40  3.19        mpfi          136  ...        99.4           front   \n",
            "\n",
            "   drive-wheels   body-style  num-of-doors  aspiration  fuel-type  \\\n",
            "0           rwd  convertible           2.0         std        gas   \n",
            "1           rwd  convertible           2.0         std        gas   \n",
            "2           rwd    hatchback           2.0         std        gas   \n",
            "3           fwd        sedan           4.0         std        gas   \n",
            "4           4wd        sedan           4.0         std        gas   \n",
            "\n",
            "          make normalized-losses symboling  \n",
            "0  alfa-romero               NaN         3  \n",
            "1  alfa-romero               NaN         3  \n",
            "2  alfa-romero               NaN         1  \n",
            "3         audi             164.0         2  \n",
            "4         audi             164.0         2  \n",
            "\n",
            "[5 rows x 26 columns]\n"
          ]
        }
      ]
    },
    {
      "cell_type": "markdown",
      "source": [
        "# Check empty data and delete its empty row"
      ],
      "metadata": {
        "id": "_Q_Va1atJG3J"
      }
    },
    {
      "cell_type": "code",
      "source": [
        "print(dataset.info())"
      ],
      "metadata": {
        "colab": {
          "base_uri": "https://localhost:8080/"
        },
        "id": "Mb9Q_wPwJLMU",
        "outputId": "38703af4-9abc-45e1-aa55-54e5a8c292c1"
      },
      "execution_count": 14,
      "outputs": [
        {
          "output_type": "stream",
          "name": "stdout",
          "text": [
            "<class 'pandas.core.frame.DataFrame'>\n",
            "RangeIndex: 205 entries, 0 to 204\n",
            "Data columns (total 26 columns):\n",
            " #   Column             Non-Null Count  Dtype  \n",
            "---  ------             --------------  -----  \n",
            " 0   price              201 non-null    float64\n",
            " 1   highway-mpg        205 non-null    int64  \n",
            " 2   city-mpg           205 non-null    int64  \n",
            " 3   peak-rpm           203 non-null    float64\n",
            " 4   horsepower         203 non-null    float64\n",
            " 5   compression-ratio  205 non-null    float64\n",
            " 6   stroke             201 non-null    float64\n",
            " 7   bore               201 non-null    float64\n",
            " 8   fuel-system        205 non-null    object \n",
            " 9   engine-size        205 non-null    int64  \n",
            " 10  num-of-cylinders   205 non-null    int64  \n",
            " 11  engine-type        205 non-null    object \n",
            " 12  curb-weight        205 non-null    int64  \n",
            " 13  height             205 non-null    float64\n",
            " 14  width              205 non-null    float64\n",
            " 15  length             205 non-null    float64\n",
            " 16  wheel-base         205 non-null    float64\n",
            " 17  engine-location    205 non-null    object \n",
            " 18  drive-wheels       205 non-null    object \n",
            " 19  body-style         205 non-null    object \n",
            " 20  num-of-doors       203 non-null    float64\n",
            " 21  aspiration         205 non-null    object \n",
            " 22  fuel-type          205 non-null    object \n",
            " 23  make               205 non-null    object \n",
            " 24  normalized-losses  164 non-null    float64\n",
            " 25  symboling          205 non-null    int64  \n",
            "dtypes: float64(12), int64(6), object(8)\n",
            "memory usage: 41.8+ KB\n",
            "None\n"
          ]
        }
      ]
    },
    {
      "cell_type": "code",
      "source": [
        "print(dataset.isnull().sum())"
      ],
      "metadata": {
        "colab": {
          "base_uri": "https://localhost:8080/"
        },
        "id": "IrDD9ylWJW-N",
        "outputId": "07e5da56-35c9-451e-f1ee-00ad8b215ba7"
      },
      "execution_count": 15,
      "outputs": [
        {
          "output_type": "stream",
          "name": "stdout",
          "text": [
            "price                 4\n",
            "highway-mpg           0\n",
            "city-mpg              0\n",
            "peak-rpm              2\n",
            "horsepower            2\n",
            "compression-ratio     0\n",
            "stroke                4\n",
            "bore                  4\n",
            "fuel-system           0\n",
            "engine-size           0\n",
            "num-of-cylinders      0\n",
            "engine-type           0\n",
            "curb-weight           0\n",
            "height                0\n",
            "width                 0\n",
            "length                0\n",
            "wheel-base            0\n",
            "engine-location       0\n",
            "drive-wheels          0\n",
            "body-style            0\n",
            "num-of-doors          2\n",
            "aspiration            0\n",
            "fuel-type             0\n",
            "make                  0\n",
            "normalized-losses    41\n",
            "symboling             0\n",
            "dtype: int64\n"
          ]
        }
      ]
    },
    {
      "cell_type": "code",
      "source": [
        "# Hapus baris yang kosong\n",
        "dataset.dropna(subset = ['price'], inplace=True)\n",
        "dataset.dropna(subset = ['peak-rpm'], inplace=True)\n",
        "dataset.dropna(subset = ['horsepower'], inplace=True)\n",
        "dataset.dropna(subset = ['bore'], inplace=True)\n",
        "dataset.dropna(subset = ['num-of-doors'], inplace=True)\n",
        "print(dataset.info())"
      ],
      "metadata": {
        "colab": {
          "base_uri": "https://localhost:8080/"
        },
        "id": "tGkfk4jPJo9H",
        "outputId": "cd989104-aaca-427e-9359-31366d72a1b1"
      },
      "execution_count": 16,
      "outputs": [
        {
          "output_type": "stream",
          "name": "stdout",
          "text": [
            "<class 'pandas.core.frame.DataFrame'>\n",
            "Index: 193 entries, 0 to 204\n",
            "Data columns (total 26 columns):\n",
            " #   Column             Non-Null Count  Dtype  \n",
            "---  ------             --------------  -----  \n",
            " 0   price              193 non-null    float64\n",
            " 1   highway-mpg        193 non-null    int64  \n",
            " 2   city-mpg           193 non-null    int64  \n",
            " 3   peak-rpm           193 non-null    float64\n",
            " 4   horsepower         193 non-null    float64\n",
            " 5   compression-ratio  193 non-null    float64\n",
            " 6   stroke             193 non-null    float64\n",
            " 7   bore               193 non-null    float64\n",
            " 8   fuel-system        193 non-null    object \n",
            " 9   engine-size        193 non-null    int64  \n",
            " 10  num-of-cylinders   193 non-null    int64  \n",
            " 11  engine-type        193 non-null    object \n",
            " 12  curb-weight        193 non-null    int64  \n",
            " 13  height             193 non-null    float64\n",
            " 14  width              193 non-null    float64\n",
            " 15  length             193 non-null    float64\n",
            " 16  wheel-base         193 non-null    float64\n",
            " 17  engine-location    193 non-null    object \n",
            " 18  drive-wheels       193 non-null    object \n",
            " 19  body-style         193 non-null    object \n",
            " 20  num-of-doors       193 non-null    float64\n",
            " 21  aspiration         193 non-null    object \n",
            " 22  fuel-type          193 non-null    object \n",
            " 23  make               193 non-null    object \n",
            " 24  normalized-losses  159 non-null    float64\n",
            " 25  symboling          193 non-null    int64  \n",
            "dtypes: float64(12), int64(6), object(8)\n",
            "memory usage: 40.7+ KB\n",
            "None\n"
          ]
        }
      ]
    },
    {
      "cell_type": "markdown",
      "source": [
        "# Feature Selection"
      ],
      "metadata": {
        "id": "bj9wAgGKQWO-"
      }
    },
    {
      "cell_type": "code",
      "source": [
        "# Hapus kolom yang tidak diperlukan untuk feature dan tentukan symboling sebagai target\n",
        "columns_to_drop = [\"normalized-losses\", \"symboling\"]\n",
        "X = dataset.drop(columns=columns_to_drop)  # Features\n",
        "y = dataset[\"symboling\"] # Target\n",
        "\n",
        "# Pilih kolom yang bertipe numerik saja\n",
        "X_numeric = X.select_dtypes(include=['float64', 'int64'])"
      ],
      "metadata": {
        "id": "wq81vXQAKVxy"
      },
      "execution_count": 19,
      "outputs": []
    },
    {
      "cell_type": "markdown",
      "source": [
        "## Splitting the dataset into the Training set and Test set (70:30)"
      ],
      "metadata": {
        "id": "kulHyhZwr8JE"
      }
    },
    {
      "cell_type": "code",
      "source": [
        "from sklearn.model_selection import train_test_split\n",
        "X_train, X_test, y_train, y_test = train_test_split(X_numeric, y, test_size=0.3)"
      ],
      "metadata": {
        "id": "gIxWHKuky4cy"
      },
      "execution_count": 20,
      "outputs": []
    },
    {
      "cell_type": "markdown",
      "source": [
        "## Training the Multiple Linear Regression model on the Training set"
      ],
      "metadata": {
        "id": "8VsxpSKIzocn"
      }
    },
    {
      "cell_type": "code",
      "source": [
        "from sklearn.linear_model import LinearRegression\n",
        "model = LinearRegression().fit(X_train, y_train)"
      ],
      "metadata": {
        "id": "8a-6P8vpzsUh"
      },
      "execution_count": 21,
      "outputs": []
    },
    {
      "cell_type": "markdown",
      "source": [
        "## Predicting the Test set results"
      ],
      "metadata": {
        "id": "pjx2FnYB2MuO"
      }
    },
    {
      "cell_type": "code",
      "source": [
        "y_pred = model.predict(X_test)"
      ],
      "metadata": {
        "id": "hqAO-ukB0sSO"
      },
      "execution_count": 22,
      "outputs": []
    },
    {
      "cell_type": "markdown",
      "source": [
        "## Evaluate the model's performance"
      ],
      "metadata": {
        "id": "AdLy0mVc1WFN"
      }
    },
    {
      "cell_type": "code",
      "source": [
        "from sklearn.metrics import mean_squared_error, r2_score\n",
        "mse = mean_squared_error(y_test, y_pred)\n",
        "r2 = r2_score(y_test, y_pred)\n",
        "\n",
        "# Tampilkan hasil evaluasi\n",
        "print(f\"Mean Squared Error: {mse}\")\n",
        "print(f\"R-squared: {r2}\")"
      ],
      "metadata": {
        "colab": {
          "base_uri": "https://localhost:8080/"
        },
        "id": "-v6y6gGL1W5p",
        "outputId": "a550fbac-3d72-42d5-cff5-9f960d6af993"
      },
      "execution_count": 23,
      "outputs": [
        {
          "output_type": "stream",
          "name": "stdout",
          "text": [
            "Mean Squared Error: 0.6463957774823057\n",
            "R-squared: 0.5743833635837783\n"
          ]
        }
      ]
    },
    {
      "cell_type": "markdown",
      "source": [
        "## Mean Squared Error (MSE)\n",
        "Mean Squared Error (MSE) adalah salah satu metrik yang digunakan untuk mengevaluasi kualitas model regresi. MSE mengukur rata-rata kuadrat selisih antara nilai prediksi dan nilai aktual. Semakin kecil nilai MSE, semakin baik model dalam memprediksi data.\n",
        "\n",
        "## R-squared (Koefisien Determinasi)\n",
        "R-squared adalah metrik evaluasi yang mengukur seberapa baik model regresi menjelaskan variabilitas dalam data target. Nilai R-squared berkisar antara 0 dan 1. Jika R-squared = 1, model memprediksi semua data dengan sempurna. Jika R-squared = 0, model tidak dapat menjelaskan variabilitas data."
      ],
      "metadata": {
        "id": "w8LJffRGzK-1"
      }
    }
  ]
}