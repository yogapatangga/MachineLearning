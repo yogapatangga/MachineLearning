{
  "nbformat": 4,
  "nbformat_minor": 0,
  "metadata": {
    "colab": {
      "provenance": [],
      "history_visible": true,
      "authorship_tag": "ABX9TyNllnufYELaEsC8+eBudiA0"
    },
    "kernelspec": {
      "name": "python3",
      "display_name": "Python 3"
    },
    "language_info": {
      "name": "python"
    }
  },
  "cells": [
    {
      "cell_type": "markdown",
      "source": [
        "# Regression Infrared using K-NN and Decision Tree\n",
        "## Importing the libraries"
      ],
      "metadata": {
        "id": "hDfYyw78ogyN"
      }
    },
    {
      "cell_type": "code",
      "source": [
        "import numpy as np\n",
        "import matplotlib.pyplot as plt\n",
        "import pandas as pd\n",
        "from sklearn.model_selection import train_test_split\n",
        "from sklearn.preprocessing import StandardScaler\n",
        "from sklearn.tree import DecisionTreeRegressor\n",
        "from sklearn.neighbors import KNeighborsRegressor\n",
        "from sklearn.metrics import root_mean_squared_error, mean_squared_error, r2_score"
      ],
      "metadata": {
        "id": "bAhsW68Yx1MU"
      },
      "execution_count": 1,
      "outputs": []
    },
    {
      "cell_type": "markdown",
      "source": [
        "## Importing the Infrared dataset and display the first few rows"
      ],
      "metadata": {
        "id": "SaKYn7Ssp3Tp"
      }
    },
    {
      "cell_type": "code",
      "source": [
        "dataset = pd.read_csv('Infrared.csv')\n",
        "print(dataset.head())"
      ],
      "metadata": {
        "colab": {
          "base_uri": "https://localhost:8080/"
        },
        "id": "GPTJMJAVx8-Z",
        "outputId": "42f8432f-ab35-42fa-911f-a55ec63c3635"
      },
      "execution_count": 2,
      "outputs": [
        {
          "output_type": "stream",
          "name": "stdout",
          "text": [
            "   Gender    Age                  Ethnicity  ...    T_OR1  T_OR_Max1  aveOralM\n",
            "0    Male  41-50                      White  ...  35.6350    35.6525     36.59\n",
            "1  Female  31-40  Black or African-American  ...  35.0925    35.1075     37.19\n",
            "2  Female  21-30                      White  ...  35.8600    35.8850     37.34\n",
            "3  Female  21-30  Black or African-American  ...  34.9650    34.9825     37.09\n",
            "4    Male  18-20                      White  ...  35.5875    35.6175     37.04\n",
            "\n",
            "[5 rows x 34 columns]\n"
          ]
        }
      ]
    },
    {
      "cell_type": "markdown",
      "source": [
        "# Check empty data and delete its empty row"
      ],
      "metadata": {
        "id": "_Q_Va1atJG3J"
      }
    },
    {
      "cell_type": "code",
      "source": [
        "print(dataset.info())"
      ],
      "metadata": {
        "colab": {
          "base_uri": "https://localhost:8080/"
        },
        "id": "Mb9Q_wPwJLMU",
        "outputId": "de1ededb-32e3-49e5-c7d7-1433f73add34"
      },
      "execution_count": 3,
      "outputs": [
        {
          "output_type": "stream",
          "name": "stdout",
          "text": [
            "<class 'pandas.core.frame.DataFrame'>\n",
            "RangeIndex: 1020 entries, 0 to 1019\n",
            "Data columns (total 34 columns):\n",
            " #   Column       Non-Null Count  Dtype  \n",
            "---  ------       --------------  -----  \n",
            " 0   Gender       1020 non-null   object \n",
            " 1   Age          1020 non-null   object \n",
            " 2   Ethnicity    1020 non-null   object \n",
            " 3   T_atm        1020 non-null   float64\n",
            " 4   Humidity     1020 non-null   float64\n",
            " 5   Distance     1018 non-null   float64\n",
            " 6   T_offset1    1020 non-null   float64\n",
            " 7   Max1R13_1    1020 non-null   float64\n",
            " 8   Max1L13_1    1020 non-null   float64\n",
            " 9   aveAllR13_1  1020 non-null   float64\n",
            " 10  aveAllL13_1  1020 non-null   float64\n",
            " 11  T_RC1        1020 non-null   float64\n",
            " 12  T_RC_Dry1    1020 non-null   float64\n",
            " 13  T_RC_Wet1    1020 non-null   float64\n",
            " 14  T_RC_Max1    1020 non-null   float64\n",
            " 15  T_LC1        1020 non-null   float64\n",
            " 16  T_LC_Dry1    1020 non-null   float64\n",
            " 17  T_LC_Wet1    1020 non-null   float64\n",
            " 18  T_LC_Max1    1020 non-null   float64\n",
            " 19  RCC1         1020 non-null   float64\n",
            " 20  LCC1         1020 non-null   float64\n",
            " 21  canthiMax1   1020 non-null   float64\n",
            " 22  canthi4Max1  1020 non-null   float64\n",
            " 23  T_FHCC1      1020 non-null   float64\n",
            " 24  T_FHRC1      1020 non-null   float64\n",
            " 25  T_FHLC1      1020 non-null   float64\n",
            " 26  T_FHBC1      1020 non-null   float64\n",
            " 27  T_FHTC1      1020 non-null   float64\n",
            " 28  T_FH_Max1    1020 non-null   float64\n",
            " 29  T_FHC_Max1   1020 non-null   float64\n",
            " 30  T_Max1       1020 non-null   float64\n",
            " 31  T_OR1        1020 non-null   float64\n",
            " 32  T_OR_Max1    1020 non-null   float64\n",
            " 33  aveOralM     1020 non-null   float64\n",
            "dtypes: float64(31), object(3)\n",
            "memory usage: 271.1+ KB\n",
            "None\n"
          ]
        }
      ]
    },
    {
      "cell_type": "code",
      "source": [
        "print(dataset.isnull().sum())"
      ],
      "metadata": {
        "colab": {
          "base_uri": "https://localhost:8080/"
        },
        "id": "IrDD9ylWJW-N",
        "outputId": "6755ba93-11e6-46f9-c3c3-e832ce0455b9"
      },
      "execution_count": 4,
      "outputs": [
        {
          "output_type": "stream",
          "name": "stdout",
          "text": [
            "Gender         0\n",
            "Age            0\n",
            "Ethnicity      0\n",
            "T_atm          0\n",
            "Humidity       0\n",
            "Distance       2\n",
            "T_offset1      0\n",
            "Max1R13_1      0\n",
            "Max1L13_1      0\n",
            "aveAllR13_1    0\n",
            "aveAllL13_1    0\n",
            "T_RC1          0\n",
            "T_RC_Dry1      0\n",
            "T_RC_Wet1      0\n",
            "T_RC_Max1      0\n",
            "T_LC1          0\n",
            "T_LC_Dry1      0\n",
            "T_LC_Wet1      0\n",
            "T_LC_Max1      0\n",
            "RCC1           0\n",
            "LCC1           0\n",
            "canthiMax1     0\n",
            "canthi4Max1    0\n",
            "T_FHCC1        0\n",
            "T_FHRC1        0\n",
            "T_FHLC1        0\n",
            "T_FHBC1        0\n",
            "T_FHTC1        0\n",
            "T_FH_Max1      0\n",
            "T_FHC_Max1     0\n",
            "T_Max1         0\n",
            "T_OR1          0\n",
            "T_OR_Max1      0\n",
            "aveOralM       0\n",
            "dtype: int64\n"
          ]
        }
      ]
    },
    {
      "cell_type": "code",
      "source": [
        "# Hapus baris yang kosong\n",
        "dataset.dropna(subset = ['Distance'], inplace=True)\n",
        "print(dataset.info())"
      ],
      "metadata": {
        "colab": {
          "base_uri": "https://localhost:8080/"
        },
        "id": "tGkfk4jPJo9H",
        "outputId": "55a184ae-beb3-4df4-994d-398e1f8f94fc"
      },
      "execution_count": 5,
      "outputs": [
        {
          "output_type": "stream",
          "name": "stdout",
          "text": [
            "<class 'pandas.core.frame.DataFrame'>\n",
            "Index: 1018 entries, 0 to 1019\n",
            "Data columns (total 34 columns):\n",
            " #   Column       Non-Null Count  Dtype  \n",
            "---  ------       --------------  -----  \n",
            " 0   Gender       1018 non-null   object \n",
            " 1   Age          1018 non-null   object \n",
            " 2   Ethnicity    1018 non-null   object \n",
            " 3   T_atm        1018 non-null   float64\n",
            " 4   Humidity     1018 non-null   float64\n",
            " 5   Distance     1018 non-null   float64\n",
            " 6   T_offset1    1018 non-null   float64\n",
            " 7   Max1R13_1    1018 non-null   float64\n",
            " 8   Max1L13_1    1018 non-null   float64\n",
            " 9   aveAllR13_1  1018 non-null   float64\n",
            " 10  aveAllL13_1  1018 non-null   float64\n",
            " 11  T_RC1        1018 non-null   float64\n",
            " 12  T_RC_Dry1    1018 non-null   float64\n",
            " 13  T_RC_Wet1    1018 non-null   float64\n",
            " 14  T_RC_Max1    1018 non-null   float64\n",
            " 15  T_LC1        1018 non-null   float64\n",
            " 16  T_LC_Dry1    1018 non-null   float64\n",
            " 17  T_LC_Wet1    1018 non-null   float64\n",
            " 18  T_LC_Max1    1018 non-null   float64\n",
            " 19  RCC1         1018 non-null   float64\n",
            " 20  LCC1         1018 non-null   float64\n",
            " 21  canthiMax1   1018 non-null   float64\n",
            " 22  canthi4Max1  1018 non-null   float64\n",
            " 23  T_FHCC1      1018 non-null   float64\n",
            " 24  T_FHRC1      1018 non-null   float64\n",
            " 25  T_FHLC1      1018 non-null   float64\n",
            " 26  T_FHBC1      1018 non-null   float64\n",
            " 27  T_FHTC1      1018 non-null   float64\n",
            " 28  T_FH_Max1    1018 non-null   float64\n",
            " 29  T_FHC_Max1   1018 non-null   float64\n",
            " 30  T_Max1       1018 non-null   float64\n",
            " 31  T_OR1        1018 non-null   float64\n",
            " 32  T_OR_Max1    1018 non-null   float64\n",
            " 33  aveOralM     1018 non-null   float64\n",
            "dtypes: float64(31), object(3)\n",
            "memory usage: 278.4+ KB\n",
            "None\n"
          ]
        }
      ]
    },
    {
      "cell_type": "markdown",
      "source": [
        "# Feature Selection"
      ],
      "metadata": {
        "id": "bj9wAgGKQWO-"
      }
    },
    {
      "cell_type": "code",
      "source": [
        "# Hapus kolom yang tidak diperlukan untuk feature dan tentukan aveOralM sebagai target\n",
        "columns_to_drop = [\"Gender\", \"Age\", \"Ethnicity\", \"aveOralM\"]\n",
        "X = dataset.drop(columns=columns_to_drop)  # Features\n",
        "y = dataset[\"aveOralM\"] # Target\n",
        "\n",
        "# Pilih kolom yang bertipe numerik saja\n",
        "# X_numeric = X.select_dtypes(include=['float64', 'int64'])"
      ],
      "metadata": {
        "id": "wq81vXQAKVxy"
      },
      "execution_count": 6,
      "outputs": []
    },
    {
      "cell_type": "markdown",
      "source": [
        "## Splitting the dataset into the Training set and Test set (70:30)"
      ],
      "metadata": {
        "id": "kulHyhZwr8JE"
      }
    },
    {
      "cell_type": "code",
      "source": [
        "X_train, X_test, y_train, y_test = train_test_split(X, y, test_size=0.3)"
      ],
      "metadata": {
        "id": "gIxWHKuky4cy"
      },
      "execution_count": 7,
      "outputs": []
    },
    {
      "cell_type": "markdown",
      "source": [
        "## Training the K-NN Regression and Decision Tree model on the Training set"
      ],
      "metadata": {
        "id": "8VsxpSKIzocn"
      }
    },
    {
      "cell_type": "code",
      "source": [
        "modelKnn = KNeighborsRegressor().fit(X_train, y_train)\n",
        "modelDecisionTree = DecisionTreeRegressor().fit(X_train, y_train)"
      ],
      "metadata": {
        "id": "8a-6P8vpzsUh"
      },
      "execution_count": 8,
      "outputs": []
    },
    {
      "cell_type": "markdown",
      "source": [
        "## Predicting the Test set results"
      ],
      "metadata": {
        "id": "pjx2FnYB2MuO"
      }
    },
    {
      "cell_type": "code",
      "source": [
        "y_predKnn = modelKnn.predict(X_test)\n",
        "y_predDecisionTree = modelDecisionTree.predict(X_test)"
      ],
      "metadata": {
        "id": "hqAO-ukB0sSO"
      },
      "execution_count": 9,
      "outputs": []
    },
    {
      "cell_type": "markdown",
      "source": [
        "## Evaluate the model's performance"
      ],
      "metadata": {
        "id": "AdLy0mVc1WFN"
      }
    },
    {
      "cell_type": "code",
      "source": [
        "rmseKnn = root_mean_squared_error(y_test, y_predKnn)\n",
        "rmseDecisionTree = root_mean_squared_error(y_test, y_predDecisionTree)\n",
        "\n",
        "mseKnn = mean_squared_error(y_test, y_predKnn)\n",
        "mseDecisionTree = mean_squared_error(y_test, y_predDecisionTree)\n",
        "\n",
        "r2Knn = r2_score(y_test, y_predKnn)\n",
        "r2DecisionTree = r2_score(y_test, y_predDecisionTree)\n",
        "\n",
        "# Tampilkan hasil evaluasi\n",
        "print(f\"K-NN RMSE: {rmseKnn}\")\n",
        "print(f\"K-NN MSE: {mseKnn}\")\n",
        "print(f\"K-NN R-squared: {r2Knn}\")\n",
        "\n",
        "print(f\"Decision Tree RMSE: {rmseDecisionTree}\")\n",
        "print(f\"Decision Tree MSE: {mseDecisionTree}\")\n",
        "print(f\"Decision Tree R-squared: {r2DecisionTree}\")"
      ],
      "metadata": {
        "colab": {
          "base_uri": "https://localhost:8080/"
        },
        "id": "-v6y6gGL1W5p",
        "outputId": "9e8c4ccb-1f52-41aa-f30d-6ba81eb0b28b"
      },
      "execution_count": 12,
      "outputs": [
        {
          "output_type": "stream",
          "name": "stdout",
          "text": [
            "K-NN RMSE: 0.32042455496549693\n",
            "K-NN MSE: 0.10267189542483676\n",
            "K-NN R-squared: 0.6235753213155222\n",
            "Decision Tree RMSE: 0.358019698585376\n",
            "Decision Tree MSE: 0.12817810457516352\n",
            "Decision Tree R-squared: 0.5300622275507385\n"
          ]
        }
      ]
    },
    {
      "cell_type": "markdown",
      "source": [
        "## Mean Squared Error (MSE)\n",
        "Mean Squared Error (MSE) adalah salah satu metrik yang digunakan untuk mengevaluasi kualitas model regresi. MSE mengukur rata-rata kuadrat selisih antara nilai prediksi dan nilai aktual. Semakin kecil nilai MSE, semakin baik model dalam memprediksi data.\n",
        "\n",
        "## R-squared (Koefisien Determinasi)\n",
        "R-squared adalah metrik evaluasi yang mengukur seberapa baik model regresi menjelaskan variabilitas dalam data target. Nilai R-squared berkisar antara 0 dan 1. Jika R-squared = 1, model memprediksi semua data dengan sempurna. Jika R-squared = 0, model tidak dapat menjelaskan variabilitas data."
      ],
      "metadata": {
        "id": "w8LJffRGzK-1"
      }
    }
  ]
}